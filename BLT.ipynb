{
 "cells": [
  {
   "cell_type": "markdown",
   "id": "18a0d211",
   "metadata": {},
   "source": [
    "### Inference Connection portal to identify fake products registered using a Blockchain Network"
   ]
  },
  {
   "cell_type": "code",
   "execution_count": 1,
   "id": "65a3d826",
   "metadata": {},
   "outputs": [
    {
     "name": "stdout",
     "output_type": "stream",
     "text": [
      "Connected to Ganache\n"
     ]
    }
   ],
   "source": [
    "import qrcode\n",
    "import json\n",
    "from PIL import Image\n",
    "from web3 import Web3\n",
    "from web3.middleware import ExtraDataToPOAMiddleware\n",
    "from eth_account import Account\n",
    "Account.enable_unaudited_hdwallet_features()\n",
    "\n",
    "ganache_url = \"http://127.0.0.1:8545\"\n",
    "w3 = Web3(Web3.HTTPProvider(ganache_url))\n",
    "\n",
    "w3.middleware_onion.inject(ExtraDataToPOAMiddleware, layer=0)\n",
    "\n",
    "if w3.is_connected():\n",
    "    print(\"Connected to Ganache\")\n",
    "else:\n",
    "    print(\"Failed to connect\")\n",
    "\n",
    "contract_address = \"0x7Ef1b11bb8825B601f3F30D239e42A9698aB1E5b\"\n",
    "contract_abi = json.load(open(\"abi.json\", \"r\"))\n",
    "\n",
    "contract = w3.eth.contract(address=contract_address, abi=contract_abi)\n",
    "\n",
    "mnemonic = \"ski winner raise venture bacon giggle heart coconut mail orbit over stay\"\n",
    "account = Account.from_mnemonic(mnemonic, account_path=\"m/44'/60'/0'/0/0\")\n",
    "\n",
    "gas_price = 2000000000\n",
    "gas_limit = 500000\n",
    "\n",
    "def generate_qr_code(product_id: str, filename: str):\n",
    "    qr = qrcode.make(product_id)\n",
    "    qr.save(filename)\n",
    "    print(f\"QR Code for {product_id} saved as {filename}\")\n",
    "\n",
    "def register_product(product_id: str, product_name: str, manufacturer: str):\n",
    "    tx = contract.functions.registerProduct(product_id, product_name, manufacturer).build_transaction({\n",
    "        'from': account.address,\n",
    "        'gas': gas_limit,\n",
    "        'gasPrice': gas_price,\n",
    "        'nonce': w3.eth.get_transaction_count(account.address),\n",
    "    })\n",
    "\n",
    "    signed_tx = w3.eth.account.sign_transaction(tx, private_key=account._private_key)\n",
    "\n",
    "    tx_hash = w3.eth.send_raw_transaction(signed_tx.raw_transaction)\n",
    "    print(f\"Transaction hash: {w3.to_hex(tx_hash)}\")\n",
    "\n",
    "    receipt = w3.eth.wait_for_transaction_receipt(tx_hash)\n",
    "    print(f\"Transaction receipt: {receipt}\")\n",
    "\n",
    "    qr_filename = f\"{product_id}_qrcode.png\"\n",
    "    generate_qr_code(product_id, qr_filename)\n",
    "    return Image.open(qr_filename)\n",
    "\n",
    "def verify_product(product_id: str):\n",
    "    try:\n",
    "        contract.functions.verifyProduct(product_id).call()\n",
    "        print(f\"Product with ID {product_id} is authentic.\")\n",
    "    except:\n",
    "        print(f\"Product with ID {product_id} is NOT authentic.\")"
   ]
  },
  {
   "cell_type": "markdown",
   "id": "e1c85586",
   "metadata": {},
   "source": [
    "### Test the system by registering and verifying products\n"
   ]
  },
  {
   "cell_type": "code",
   "execution_count": 2,
   "id": "e747474f",
   "metadata": {},
   "outputs": [
    {
     "name": "stdout",
     "output_type": "stream",
     "text": [
      "Transaction hash: 0x86f446f83271e6b28c6c46f8cadd5d83d21804e8bbacdb18a0f96d773a4d26a1\n",
      "Transaction receipt: AttributeDict({'transactionHash': HexBytes('0x86f446f83271e6b28c6c46f8cadd5d83d21804e8bbacdb18a0f96d773a4d26a1'), 'transactionIndex': 0, 'blockNumber': 10, 'blockHash': HexBytes('0xf60048c61be491cb9de7d00d77a21fcc86495c6e5464cb4d7b95bf34125df728'), 'from': '0x8B0F305E394Bcc45F1dd84D7d56A172DAF0350FC', 'to': '0x7Ef1b11bb8825B601f3F30D239e42A9698aB1E5b', 'cumulativeGasUsed': 28946, 'gasUsed': 28946, 'contractAddress': None, 'logs': [], 'logsBloom': HexBytes('0x00000000000000000000000000000000000000000000000000000000000000000000000000000000000000000000000000000000000000000000000000000000000000000000000000000000000000000000000000000000000000000000000000000000000000000000000000000000000000000000000000000000000000000000000000000000000000000000000000000000000000000000000000000000000000000000000000000000000000000000000000000000000000000000000000000000000000000000000000000000000000000000000000000000000000000000000000000000000000000000000000000000000000000000000000000000'), 'status': 0, 'effectiveGasPrice': 2000000000, 'type': 0})\n",
      "QR Code for PROD001 saved as PROD001_qrcode.png\n"
     ]
    },
    {
     "data": {
      "image/png": "[encoded data removed]",
      "text/plain": [
       "<PIL.PngImagePlugin.PngImageFile image mode=1 size=290x290>"
      ]
     },
     "execution_count": 2,
     "metadata": {},
     "output_type": "execute_result"
    }
   ],
   "source": [
    "register_product(\"PROD001\", \"Laptop\", \"TechCorp\")"
   ]
  },
  {
   "cell_type": "code",
   "execution_count": 3,
   "id": "4ce2e139",
   "metadata": {},
   "outputs": [
    {
     "name": "stdout",
     "output_type": "stream",
     "text": [
      "Transaction hash: 0x6e64d5693e8ce07380c9b51386efebb5be1298ceeb915986f0bd43c71c06032c\n",
      "Transaction receipt: AttributeDict({'transactionHash': HexBytes('0x6e64d5693e8ce07380c9b51386efebb5be1298ceeb915986f0bd43c71c06032c'), 'transactionIndex': 0, 'blockNumber': 11, 'blockHash': HexBytes('0xabf816a91776357ef160963b0e19564ef745c1320be47886ccaa944f7a585dea'), 'from': '0x8B0F305E394Bcc45F1dd84D7d56A172DAF0350FC', 'to': '0x7Ef1b11bb8825B601f3F30D239e42A9698aB1E5b', 'cumulativeGasUsed': 29090, 'gasUsed': 29090, 'contractAddress': None, 'logs': [], 'logsBloom': HexBytes('0x00000000000000000000000000000000000000000000000000000000000000000000000000000000000000000000000000000000000000000000000000000000000000000000000000000000000000000000000000000000000000000000000000000000000000000000000000000000000000000000000000000000000000000000000000000000000000000000000000000000000000000000000000000000000000000000000000000000000000000000000000000000000000000000000000000000000000000000000000000000000000000000000000000000000000000000000000000000000000000000000000000000000000000000000000000000'), 'status': 0, 'effectiveGasPrice': 2000000000, 'type': 0})\n",
      "QR Code for 1234567890 saved as 1234567890_qrcode.png\n"
     ]
    },
    {
     "data": {
      "image/png": "[encoded data removed]",
      "text/plain": [
       "<PIL.PngImagePlugin.PngImageFile image mode=1 size=290x290>"
      ]
     },
     "execution_count": 3,
     "metadata": {},
     "output_type": "execute_result"
    }
   ],
   "source": [
    "register_product(\"1234567890\", \"Product A\", \"Manufacturer A\")"
   ]
  },
  {
   "cell_type": "code",
   "execution_count": 4,
   "id": "b73fb0ee",
   "metadata": {},
   "outputs": [
    {
     "name": "stdout",
     "output_type": "stream",
     "text": [
      "Transaction hash: 0x098cfdb102c16974e42ef11a021138d208bd34faad13727f4631ec8c26ee95cb\n",
      "Transaction receipt: AttributeDict({'transactionHash': HexBytes('0x098cfdb102c16974e42ef11a021138d208bd34faad13727f4631ec8c26ee95cb'), 'transactionIndex': 0, 'blockNumber': 12, 'blockHash': HexBytes('0x736efbac1e1aa30e7bf533b729b2778f8fbbaf3869e10b5b6159347eacef9cf9'), 'from': '0x8B0F305E394Bcc45F1dd84D7d56A172DAF0350FC', 'to': '0x7Ef1b11bb8825B601f3F30D239e42A9698aB1E5b', 'cumulativeGasUsed': 29090, 'gasUsed': 29090, 'contractAddress': None, 'logs': [], 'logsBloom': HexBytes('0x00000000000000000000000000000000000000000000000000000000000000000000000000000000000000000000000000000000000000000000000000000000000000000000000000000000000000000000000000000000000000000000000000000000000000000000000000000000000000000000000000000000000000000000000000000000000000000000000000000000000000000000000000000000000000000000000000000000000000000000000000000000000000000000000000000000000000000000000000000000000000000000000000000000000000000000000000000000000000000000000000000000000000000000000000000000'), 'status': 0, 'effectiveGasPrice': 2000000000, 'type': 0})\n",
      "QR Code for 0987654321 saved as 0987654321_qrcode.png\n"
     ]
    },
    {
     "data": {
      "image/png": "[encoded data removed]",
      "text/plain": [
       "<PIL.PngImagePlugin.PngImageFile image mode=1 size=290x290>"
      ]
     },
     "execution_count": 4,
     "metadata": {},
     "output_type": "execute_result"
    }
   ],
   "source": [
    "register_product(\"0987654321\", \"Product B\", \"Manufacturer B\")"
   ]
  },
  {
   "cell_type": "code",
   "execution_count": 5,
   "id": "549d01e8",
   "metadata": {},
   "outputs": [
    {
     "name": "stdout",
     "output_type": "stream",
     "text": [
      "Product with ID 1234567890 is authentic.\n"
     ]
    }
   ],
   "source": [
    "verify_product(\"1234567890\")"
   ]
  },
  {
   "cell_type": "code",
   "execution_count": 6,
   "id": "d3f132af",
   "metadata": {},
   "outputs": [
    {
     "name": "stdout",
     "output_type": "stream",
     "text": [
      "Product with ID 0987654321 is authentic.\n"
     ]
    }
   ],
   "source": [
    "verify_product(\"0987654321\")"
   ]
  },
  {
   "cell_type": "code",
   "execution_count": 7,
   "id": "2612c186",
   "metadata": {},
   "outputs": [
    {
     "name": "stderr",
     "output_type": "stream",
     "text": [
      "An RPC error was returned by the node. Check the message provided in the error and any available logs for more information.\n"
     ]
    },
    {
     "name": "stdout",
     "output_type": "stream",
     "text": [
      "Product with ID 0000000000 is NOT authentic.\n"
     ]
    }
   ],
   "source": [
    "verify_product(\"0000000000\")"
   ]
  }
 ],
 "metadata": {
  "kernelspec": {
   "display_name": "base",
   "language": "python",
   "name": "python3"
  },
  "language_info": {
   "codemirror_mode": {
    "name": "ipython",
    "version": 3
   },
   "file_extension": ".py",
   "mimetype": "text/x-python",
   "name": "python",
   "nbconvert_exporter": "python",
   "pygments_lexer": "ipython3",
   "version": "3.11.10"
  }
 },
 "nbformat": 4,
 "nbformat_minor": 5
}
